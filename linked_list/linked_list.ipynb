{
  "cells": [
    {
      "cell_type": "raw",
      "metadata": {},
      "source": [
        "---\n",
        "title: \"Binary Trees - Python\"\n",
        "author: \"Tural Sadigov\"\n",
        "date: today\n",
        "format: \n",
        "    html:\n",
        "      theme: \n",
        "        light: united\n",
        "        dark: darkly\n",
        "editor: visual\n",
        "chunk_output_type: console\n",
        "fig-align: center\n",
        "always_allow_html: true\n",
        "toc: true\n",
        "toc-location: right\n",
        "number-sections: true\n",
        "page-layout: article\n",
        "code-overflow: scroll\n",
        "code-line-numbers: false\n",
        "code-copy: true\n",
        "execute:\n",
        "  echo: true\n",
        "  warning: false\n",
        "  eval: true\n",
        "  output: true\n",
        "  error: false\n",
        "  freeze: true\n",
        "  out.width: \"100%\"\n",
        "---"
      ],
      "id": "7028cdf7"
    },
    {
      "cell_type": "markdown",
      "metadata": {},
      "source": [
        "# Node class\n"
      ],
      "id": "62fa7763"
    },
    {
      "cell_type": "code",
      "metadata": {},
      "source": [
        "class Node:\n",
        "  def __init__(self, value):\n",
        "    self.value = value\n",
        "    self.next = None"
      ],
      "id": "9d5a28a4",
      "execution_count": null,
      "outputs": []
    },
    {
      "cell_type": "markdown",
      "metadata": {},
      "source": [
        "# create a linked list\n"
      ],
      "id": "552fbeca"
    },
    {
      "cell_type": "code",
      "metadata": {},
      "source": [
        "a = Node('A')\n",
        "b = Node('B')\n",
        "c = Node('C')\n",
        "d = Node('D')\n",
        "a.next = b\n",
        "b.next = c\n",
        "c.next = d"
      ],
      "id": "da88e43b",
      "execution_count": null,
      "outputs": []
    },
    {
      "cell_type": "markdown",
      "metadata": {},
      "source": [
        "# traverse linked-list\n",
        "\n",
        "Note that linked list we created is A --\\> B --\\> C --\\> D --\\> Null\n"
      ],
      "id": "8fc3dd41"
    },
    {
      "cell_type": "code",
      "metadata": {},
      "source": [
        "def print_linked_list(head):\n",
        "  while head:\n",
        "    print(head.value)\n",
        "    head = head.next\n",
        "  \n",
        "print_linked_list(a)"
      ],
      "id": "259a3819",
      "execution_count": null,
      "outputs": []
    },
    {
      "cell_type": "markdown",
      "metadata": {},
      "source": [
        "# traverse linked-list RECURSIVELY\n"
      ],
      "id": "946ea71d"
    },
    {
      "cell_type": "code",
      "metadata": {},
      "source": [
        "def print_linked_list_recursively(head):\n",
        "  if head is None:\n",
        "    return\n",
        "  print(head.val)\n",
        "  print_linked_list_recursively(head.next)\n",
        "  \n",
        "print_linked_list(a)"
      ],
      "id": "dd4ffee6",
      "execution_count": null,
      "outputs": []
    },
    {
      "cell_type": "markdown",
      "metadata": {},
      "source": [
        "# return linked list values in order\n"
      ],
      "id": "85dff2e0"
    },
    {
      "cell_type": "code",
      "metadata": {},
      "source": [
        "def ll_values(head):\n",
        "  if head is None:\n",
        "    return\n",
        "  res = []\n",
        "  while head:\n",
        "    res.append(head.value)\n",
        "    head = head.next\n",
        "  return res\n",
        "\n",
        "ll_values(a)"
      ],
      "id": "10d012e8",
      "execution_count": null,
      "outputs": []
    },
    {
      "cell_type": "markdown",
      "metadata": {},
      "source": [
        "# return linked list values in order recursively\n"
      ],
      "id": "9a669893"
    },
    {
      "cell_type": "code",
      "metadata": {},
      "source": [
        "def ll_values_rec(head):\n",
        "  if head is None:\n",
        "    return\n",
        "  return [head.value] + ll_values_rec(head.next) \n",
        "\n",
        "ll_values(a)"
      ],
      "id": "38600b69",
      "execution_count": null,
      "outputs": []
    },
    {
      "cell_type": "markdown",
      "metadata": {},
      "source": [
        "# sum of the values\n"
      ],
      "id": "863b6f61"
    },
    {
      "cell_type": "code",
      "metadata": {},
      "source": [
        "def sum_ll(head):\n",
        "  if head is None:\n",
        "    return 0\n",
        "  s = 0\n",
        "  while head:\n",
        "    s += head.value\n",
        "    head = head.next\n",
        "  return s\n",
        "\n",
        "a = Node(2)\n",
        "b = Node(8)\n",
        "c = Node(3)\n",
        "d = Node(7)\n",
        "a.next = b\n",
        "b.next = c\n",
        "c.next = d\n",
        "\n",
        "sum_ll(a)"
      ],
      "id": "6588ead0",
      "execution_count": null,
      "outputs": []
    },
    {
      "cell_type": "markdown",
      "metadata": {},
      "source": [
        "# sum of the values recursively\n"
      ],
      "id": "81389acc"
    },
    {
      "cell_type": "code",
      "metadata": {},
      "source": [
        "def sum_ll_rec(head):\n",
        "  if head is None:\n",
        "    return 0\n",
        "  return head.value + sum_ll_rec(head.next)\n",
        "\n",
        "sum_ll_rec(a)"
      ],
      "id": "e62c99b4",
      "execution_count": null,
      "outputs": []
    },
    {
      "cell_type": "markdown",
      "metadata": {},
      "source": [
        "# find target value\n"
      ],
      "id": "cceab4ac"
    },
    {
      "cell_type": "code",
      "metadata": {},
      "source": [
        "def find_target(head, target):\n",
        "  if head is None:\n",
        "    return False\n",
        "  while head:\n",
        "    if head.value == target:\n",
        "      return True\n",
        "    head = head.next\n",
        "  return False\n",
        "\n",
        "find_target(a, 3)\n",
        "find_target(a, 9)"
      ],
      "id": "5a95926c",
      "execution_count": null,
      "outputs": []
    },
    {
      "cell_type": "markdown",
      "metadata": {},
      "source": [
        "# find target value recursively\n"
      ],
      "id": "dc3da1d3"
    },
    {
      "cell_type": "code",
      "metadata": {},
      "source": [
        "def find_target_rec(head, target):\n",
        "  if head is None:\n",
        "    return False\n",
        "  if head.value == target:\n",
        "    return True\n",
        "  return find_target_rec(head.next, target)\n",
        "\n",
        "find_target_rec(a, 3)\n",
        "find_target_rec(a, 9)"
      ],
      "id": "72790906",
      "execution_count": null,
      "outputs": []
    },
    {
      "cell_type": "markdown",
      "metadata": {},
      "source": [
        "# get node value at a given index\n"
      ],
      "id": "d6a24357"
    },
    {
      "cell_type": "code",
      "metadata": {},
      "source": [
        "def get_node_value(head, index):\n",
        "  if head is None:\n",
        "    return\n",
        "  count = 0\n",
        "  while head:\n",
        "    if count == index:\n",
        "      return head.value\n",
        "    head = head.next\n",
        "    count +=1\n",
        "  return None\n",
        "get_node_value(a, 3)\n",
        "get_node_value(a, 2)"
      ],
      "id": "35c778ec",
      "execution_count": null,
      "outputs": []
    },
    {
      "cell_type": "markdown",
      "metadata": {},
      "source": [
        "# get node value at a given index recursively\n"
      ],
      "id": "d5cb1830"
    },
    {
      "cell_type": "code",
      "metadata": {},
      "source": [
        "def get_node_value_rec(head, index):\n",
        "  if head is None:\n",
        "    return\n",
        "  if index == 0:\n",
        "    return head.value\n",
        "  return get_node_value_rec(head.next, index-1)\n",
        "\n",
        "get_node_value_rec(a, 3)\n",
        "get_node_value_rec(a, 2)"
      ],
      "id": "ec3c1106",
      "execution_count": null,
      "outputs": []
    }
  ],
  "metadata": {
    "kernelspec": {
      "name": "python3",
      "language": "python",
      "display_name": "Python 3 (ipykernel)"
    }
  },
  "nbformat": 4,
  "nbformat_minor": 5
}